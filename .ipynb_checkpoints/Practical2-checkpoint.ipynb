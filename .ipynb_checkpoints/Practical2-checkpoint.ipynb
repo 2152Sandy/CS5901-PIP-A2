{
 "cells": [
  {
   "cell_type": "markdown",
   "id": "c8043dd5",
   "metadata": {},
   "source": [
    "<img src=\"standard-vertical-black.png\" width=\"150\">"
   ]
  },
  {
   "cell_type": "markdown",
   "id": "49f6a1fe",
   "metadata": {},
   "source": [
    "## School of Computer Science"
   ]
  },
  {
   "cell_type": "markdown",
   "id": "97a705a7",
   "metadata": {},
   "source": [
    "# CS5901 Programming in Python\n",
    "## Practical 2 \n",
    "##### Credits: 30% of the module"
   ]
  },
  {
   "cell_type": "markdown",
   "id": "3e26dde6",
   "metadata": {},
   "source": [
    "## Aim / Learning objectives\n",
    "\n",
    "\n",
    "\n",
    "The objectives of this practical are:\n",
    "\n",
    "* Learn how to investigate, clean and prepare data\n",
    "* Analyse the complexity of algorithms \n"
   ]
  },
  {
   "cell_type": "markdown",
   "id": "f662dc6a",
   "metadata": {},
   "source": [
    "## Set-up\n",
    "\n",
    "You are **only allowed** to use the following imported packages for this practical. No off-the-shelf machine learning packages such as _scikit-learn_ are allowed. \n"
   ]
  },
  {
   "cell_type": "code",
   "execution_count": 2,
   "id": "931f3a91",
   "metadata": {},
   "outputs": [],
   "source": [
    "import pandas as pd\n",
    "import numpy as np\n",
    "import time\n",
    "import gc\n",
    "import psutil\n",
    "import os"
   ]
  },
  {
   "cell_type": "markdown",
   "id": "c7d4c672",
   "metadata": {},
   "source": [
    "### Data\n",
    "\n",
    "- You will use the data in **P2data????.csv**, where **????** denotes the last four digits of your matriculation number. This is obtained by emailing **cs5901.staff** \n",
    "- An existing dataset will be sampled and sent you you in CSV format"
   ]
  },
  {
   "cell_type": "markdown",
   "id": "60e67c74",
   "metadata": {},
   "source": [
    "### Instructions\n",
    "\n",
    "**Stage 0. Code repository**\n",
    "\n",
    "- Code repos are an essential resource for the modern programmer\n",
    "- Normally you'd push all your commited changes to a server, but we'll skip this step\n",
    "- Everything below assumes use of *git*, but you can use any other suitable repository tool\n",
    "\n",
    "0. Install *git* locally (or the repo of your choice)\n",
    "    - https://git-scm.com/book/en/v2/Getting-Started-Installing-Git\n",
    "1. Create a repo\n",
    "    - https://git-scm.com/book/en/v2/Git-Basics-Getting-a-Git-Repository\n",
    "2. Add your initial code to the repo, and commit changes as you update the code\n",
    "    - https://www.atlassian.com/git/tutorials/saving-changes/git-commit\n",
    "3. Include your git log in the notebook part of the submission\n",
    "    - https://git-scm.com/docs/git-log\n",
    "\n",
    "Again, don't *git push* anything if you are working locally"
   ]
  },
  {
   "cell_type": "markdown",
   "id": "652d9a2d",
   "metadata": {},
   "source": [
    "**Stage 1. Data cleaning and profiling**\n",
    "\n",
    "0. Import the data as a pandas dataframe\n",
    "1. Identify and remove any data rows that make no sense\n",
    "2. Replace any missing values in T3 and T4 with average values **for their specific level**\n",
    "3. Write code - without using *pandas.describe()* - that presents a table of descriptive statistics for each column, then compare you results to those obtained using *pandas.describe()*\n",
    "4. Write code that identifies any repeated rows or confirms that there are none"
   ]
  },
  {
   "cell_type": "markdown",
   "id": "de6f4ba3",
   "metadata": {},
   "source": [
    "**Stage 2. Time and space complexity**\n",
    "\n",
    "- The code below is an undocumented example of one way to find the CPU time and RAM space needed to perform calculations on randomly generated data, and investigate how the time and space needed grows as the size of the problem increases\n",
    "\n",
    "1. Using adaptations of the code below, or the method of your choice, investigate the time and space needed for:\n",
    "    - standard matrix multiplication (for time this should be $cn^3$ where $c$ is a non-negative constant)\n",
    "    - sorting an unordered list of integers inefficiently by searching for the smallest element, then the next smallest,...\n",
    "    - a comparison of Python's *find()* method and your loop-based implementation of a method that checks if one string is a substring of another"
   ]
  },
  {
   "cell_type": "code",
   "execution_count": 3,
   "id": "ad8f430c",
   "metadata": {},
   "outputs": [
    {
     "name": "stdout",
     "output_type": "stream",
     "text": [
      "[ 0.06470418  0.28054786  0.68449807  1.31404376  2.17583394  4.08201385\n",
      "  5.82783508  8.15327191 11.1856277  14.79041791]\n",
      "[5.94944000e+07 2.53435904e+08 6.87443968e+08 1.32944691e+09\n",
      " 2.33149235e+09 3.19752192e+09 4.37561344e+09 6.42568192e+09\n",
      " 4.86090342e+09 3.79873690e+09]\n"
     ]
    }
   ],
   "source": [
    "def myInv(size):\n",
    "    intA = np.random.randint(-500,50000, (size,size))\n",
    "    flA = np.random.rand(size,size)\n",
    "    A = intA + flA\n",
    "    b = np.random.randint(-10,100,size)\n",
    "    return(np.linalg.inv(A))\n",
    "\n",
    "process = psutil.Process(os.getpid())\n",
    "baseRam = process.memory_info().rss\n",
    "\n",
    "resTime = np.zeros(10)\n",
    "resSpace = np.zeros(10)\n",
    "\n",
    "for i in range(1,11):\n",
    "    gc.collect()\n",
    "    start = time.time()\n",
    "    myInv(i*1000)\n",
    "    end = time.time()\n",
    "    ram = process.memory_info().rss    \n",
    "    resTime[i-1] = end - start\n",
    "    resSpace[i-1] = ram - baseRam\n",
    "    \n",
    "print(resTime)\n",
    "print(resSpace)"
   ]
  },
  {
   "cell_type": "markdown",
   "id": "a126c3dc",
   "metadata": {},
   "source": [
    "## Key points"
   ]
  },
  {
   "cell_type": "markdown",
   "id": "36fd3b68",
   "metadata": {},
   "source": [
    "- All your code should be in fully documented *.py* files\n",
    "- Your notebook should import and demonstrate the code\n",
    "- For task two, you need to understand what *myInv()* does\n",
    "- For task two, a scatter plot of *(time,size)* and/or *(space,size)* is often a good way to visualise the complexity\n",
    "- For most tasks, there is no single correct answer - the idea is to show that you can write code that provides a better understanding of both data and the complexity of methods used in Data Science\n",
    "- As for the first practical, the aim is to use the smallest number of external libraries in order to develop core Python skills\n",
    "    - If you have problems generating inline plots in Jupyter without using *matpotlib*, then it is acceptable to also import this package."
   ]
  },
  {
   "cell_type": "markdown",
   "id": "e7cf0c46",
   "metadata": {},
   "source": [
    "## Sumbission\n",
    "\n",
    "Upload two things via Moodle:\n",
    "\n",
    "1. A single Python file containing all your documented code\n",
    "\n",
    "2. A Jupyter notebook that imports your code, demonstrates its use, and presents any results or insights obtained. You should also discuss any design decisions you made in the notebook\n",
    "\n"
   ]
  },
  {
   "cell_type": "markdown",
   "id": "91428fff",
   "metadata": {},
   "source": [
    "## Assessment Criteria\n",
    "\n",
    "Marking will follow the guidelines given in the school student handbook (see link in next section). \n"
   ]
  },
  {
   "cell_type": "markdown",
   "id": "4422044c",
   "metadata": {},
   "source": [
    "\n",
    "## Policies and Guidelines\n",
    "\n",
    "\n",
    "### Marking\n",
    "See the standard mark descriptors in the School Student Handbook:\n",
    "http://info.cs.st-andrews.ac.uk/student-handbook/learning-teaching/feedback.html#Mark_Descriptors\n",
    "\n",
    "\n",
    "### Good academic practice\n",
    "The University policy on Good Academic Practice applies:\n",
    "https://www.st-andrews.ac.uk/students/rules/academicpractice/\n"
   ]
  }
 ],
 "metadata": {
  "kernelspec": {
   "display_name": "Python 3 (ipykernel)",
   "language": "python",
   "name": "python3"
  },
  "language_info": {
   "codemirror_mode": {
    "name": "ipython",
    "version": 3
   },
   "file_extension": ".py",
   "mimetype": "text/x-python",
   "name": "python",
   "nbconvert_exporter": "python",
   "pygments_lexer": "ipython3",
   "version": "3.10.4"
  }
 },
 "nbformat": 4,
 "nbformat_minor": 5
}
